{
 "cells": [
  {
   "cell_type": "markdown",
   "id": "8cdbda53",
   "metadata": {
    "papermill": {
     "duration": 0.009018,
     "end_time": "2022-12-15T15:50:04.991849",
     "exception": false,
     "start_time": "2022-12-15T15:50:04.982831",
     "status": "completed"
    },
    "tags": []
   },
   "source": [
    " "
   ]
  },
  {
   "cell_type": "code",
   "execution_count": 1,
   "id": "cf32c6b5",
   "metadata": {
    "papermill": {
     "duration": 0.031044,
     "end_time": "2022-12-15T15:50:05.030447",
     "exception": false,
     "start_time": "2022-12-15T15:50:04.999403",
     "status": "completed"
    },
    "tags": []
   },
   "outputs": [],
   "source": [
    "import matplotlib.pyplot as plt\n",
    "import numpy as np\n",
    "import pandas as pd\n",
    "\n",
    "from IPython.display import display, Markdown\n",
    "from pathlib import Path\n",
    "\n",
    "\n",
    "data_dir = Path('learning-equality-curriculum-recommendations')"
   ]
  },
  {
   "cell_type": "code",
   "execution_count": 2,
   "id": "ca1a3ef8",
   "metadata": {
    "papermill": {
     "duration": 26.169133,
     "end_time": "2022-12-15T15:50:31.203965",
     "exception": false,
     "start_time": "2022-12-15T15:50:05.034832",
     "status": "completed"
    },
    "tags": []
   },
   "outputs": [],
   "source": [
    "# load the data into pandas dataframes\n",
    "topics_df = pd.read_csv(data_dir / \"topics.csv\", index_col=0).fillna({\"title\": \"\", \"description\": \"\"})\n",
    "content_df = pd.read_csv(data_dir / \"content.csv\", index_col=0).fillna(\"\")\n",
    "correlations_df = pd.read_csv(data_dir / \"correlations.csv\", index_col=0)"
   ]
  },
  {
   "cell_type": "code",
   "execution_count": 5,
   "id": "cd5c6060",
   "metadata": {
    "papermill": {
     "duration": 0.072735,
     "end_time": "2022-12-15T15:50:31.281143",
     "exception": false,
     "start_time": "2022-12-15T15:50:31.208408",
     "status": "completed"
    },
    "tags": []
   },
   "outputs": [
    {
     "data": {
      "text/html": [
       "<div>\n",
       "<style scoped>\n",
       "    .dataframe tbody tr th:only-of-type {\n",
       "        vertical-align: middle;\n",
       "    }\n",
       "\n",
       "    .dataframe tbody tr th {\n",
       "        vertical-align: top;\n",
       "    }\n",
       "\n",
       "    .dataframe thead th {\n",
       "        text-align: right;\n",
       "    }\n",
       "</style>\n",
       "<table border=\"1\" class=\"dataframe\">\n",
       "  <thead>\n",
       "    <tr style=\"text-align: right;\">\n",
       "      <th></th>\n",
       "      <th>title</th>\n",
       "      <th>description</th>\n",
       "      <th>channel</th>\n",
       "      <th>category</th>\n",
       "      <th>level</th>\n",
       "      <th>language</th>\n",
       "      <th>parent</th>\n",
       "      <th>has_content</th>\n",
       "    </tr>\n",
       "    <tr>\n",
       "      <th>id</th>\n",
       "      <th></th>\n",
       "      <th></th>\n",
       "      <th></th>\n",
       "      <th></th>\n",
       "      <th></th>\n",
       "      <th></th>\n",
       "      <th></th>\n",
       "      <th></th>\n",
       "    </tr>\n",
       "  </thead>\n",
       "  <tbody>\n",
       "    <tr>\n",
       "      <th>t_426c331e3929</th>\n",
       "      <td>Lección 30</td>\n",
       "      <td></td>\n",
       "      <td>6e90a7</td>\n",
       "      <td>aligned</td>\n",
       "      <td>6</td>\n",
       "      <td>es</td>\n",
       "      <td>t_d5c4b01b6a69</td>\n",
       "      <td>True</td>\n",
       "    </tr>\n",
       "    <tr>\n",
       "      <th>t_d642a701c9f9</th>\n",
       "      <td>Lección 16</td>\n",
       "      <td>Resultados de los estudiantes Los estudiantes ...</td>\n",
       "      <td>410920</td>\n",
       "      <td>source</td>\n",
       "      <td>4</td>\n",
       "      <td>es</td>\n",
       "      <td>t_5e1a544119d2</td>\n",
       "      <td>True</td>\n",
       "    </tr>\n",
       "    <tr>\n",
       "      <th>t_c341583d5d19</th>\n",
       "      <td>Factoring Polynomials with Quadratic Forms</td>\n",
       "      <td></td>\n",
       "      <td>d30518</td>\n",
       "      <td>supplemental</td>\n",
       "      <td>3</td>\n",
       "      <td>en</td>\n",
       "      <td>t_58db95a027b9</td>\n",
       "      <td>False</td>\n",
       "    </tr>\n",
       "    <tr>\n",
       "      <th>t_db54a84436ab</th>\n",
       "      <td>पद्धत(पैटर्न) चा शोध [02-PS-15]</td>\n",
       "      <td>“शुद्धलेखन स्पर्धा - स्पेलिंग बी” चं ज्ञान (इय...</td>\n",
       "      <td>c3dc85</td>\n",
       "      <td>source</td>\n",
       "      <td>2</td>\n",
       "      <td>mr</td>\n",
       "      <td>t_e3da465f60a4</td>\n",
       "      <td>True</td>\n",
       "    </tr>\n",
       "    <tr>\n",
       "      <th>t_34e246247244</th>\n",
       "      <td>9.5.1 Directions</td>\n",
       "      <td></td>\n",
       "      <td>05be9f</td>\n",
       "      <td>aligned</td>\n",
       "      <td>3</td>\n",
       "      <td>en</td>\n",
       "      <td>t_6781eb0bc165</td>\n",
       "      <td>False</td>\n",
       "    </tr>\n",
       "    <tr>\n",
       "      <th>t_8203589e2d84</th>\n",
       "      <td>Metals and Non-metals</td>\n",
       "      <td></td>\n",
       "      <td>ef2088</td>\n",
       "      <td>supplemental</td>\n",
       "      <td>4</td>\n",
       "      <td>en</td>\n",
       "      <td>t_4f165577d035</td>\n",
       "      <td>False</td>\n",
       "    </tr>\n",
       "    <tr>\n",
       "      <th>t_29426c70b179</th>\n",
       "      <td>NM_U12 - Le processus d'ecriture</td>\n",
       "      <td></td>\n",
       "      <td>c36745</td>\n",
       "      <td>supplemental</td>\n",
       "      <td>2</td>\n",
       "      <td>fr</td>\n",
       "      <td>t_66d2fa728fc6</td>\n",
       "      <td>True</td>\n",
       "    </tr>\n",
       "    <tr>\n",
       "      <th>t_5aa125aee8a9</th>\n",
       "      <td>How and why political parties change and adapt</td>\n",
       "      <td></td>\n",
       "      <td>0ec697</td>\n",
       "      <td>source</td>\n",
       "      <td>4</td>\n",
       "      <td>en</td>\n",
       "      <td>t_5775592f101d</td>\n",
       "      <td>True</td>\n",
       "    </tr>\n",
       "    <tr>\n",
       "      <th>t_ea5c7aac4ff3</th>\n",
       "      <td>Lección 3</td>\n",
       "      <td></td>\n",
       "      <td>6e90a7</td>\n",
       "      <td>aligned</td>\n",
       "      <td>6</td>\n",
       "      <td>es</td>\n",
       "      <td>t_3223a937c5cb</td>\n",
       "      <td>True</td>\n",
       "    </tr>\n",
       "    <tr>\n",
       "      <th>t_4a1eb51c37a7</th>\n",
       "      <td>3.0 Acids, bases and indicators (16 lessons)</td>\n",
       "      <td>Acid/Base indicators;\\nSimple properties of ac...</td>\n",
       "      <td>c7ca13</td>\n",
       "      <td>aligned</td>\n",
       "      <td>3</td>\n",
       "      <td>en</td>\n",
       "      <td>t_05229144cbef</td>\n",
       "      <td>False</td>\n",
       "    </tr>\n",
       "  </tbody>\n",
       "</table>\n",
       "</div>"
      ],
      "text/plain": [
       "                                                         title  \\\n",
       "id                                                               \n",
       "t_426c331e3929                                      Lección 30   \n",
       "t_d642a701c9f9                                      Lección 16   \n",
       "t_c341583d5d19      Factoring Polynomials with Quadratic Forms   \n",
       "t_db54a84436ab                 पद्धत(पैटर्न) चा शोध [02-PS-15]   \n",
       "t_34e246247244                                9.5.1 Directions   \n",
       "t_8203589e2d84                           Metals and Non-metals   \n",
       "t_29426c70b179                NM_U12 - Le processus d'ecriture   \n",
       "t_5aa125aee8a9  How and why political parties change and adapt   \n",
       "t_ea5c7aac4ff3                                       Lección 3   \n",
       "t_4a1eb51c37a7    3.0 Acids, bases and indicators (16 lessons)   \n",
       "\n",
       "                                                      description channel  \\\n",
       "id                                                                          \n",
       "t_426c331e3929                                                     6e90a7   \n",
       "t_d642a701c9f9  Resultados de los estudiantes Los estudiantes ...  410920   \n",
       "t_c341583d5d19                                                     d30518   \n",
       "t_db54a84436ab  “शुद्धलेखन स्पर्धा - स्पेलिंग बी” चं ज्ञान (इय...  c3dc85   \n",
       "t_34e246247244                                                     05be9f   \n",
       "t_8203589e2d84                                                     ef2088   \n",
       "t_29426c70b179                                                     c36745   \n",
       "t_5aa125aee8a9                                                     0ec697   \n",
       "t_ea5c7aac4ff3                                                     6e90a7   \n",
       "t_4a1eb51c37a7  Acid/Base indicators;\\nSimple properties of ac...  c7ca13   \n",
       "\n",
       "                    category  level language          parent  has_content  \n",
       "id                                                                         \n",
       "t_426c331e3929       aligned      6       es  t_d5c4b01b6a69         True  \n",
       "t_d642a701c9f9        source      4       es  t_5e1a544119d2         True  \n",
       "t_c341583d5d19  supplemental      3       en  t_58db95a027b9        False  \n",
       "t_db54a84436ab        source      2       mr  t_e3da465f60a4         True  \n",
       "t_34e246247244       aligned      3       en  t_6781eb0bc165        False  \n",
       "t_8203589e2d84  supplemental      4       en  t_4f165577d035        False  \n",
       "t_29426c70b179  supplemental      2       fr  t_66d2fa728fc6         True  \n",
       "t_5aa125aee8a9        source      4       en  t_5775592f101d         True  \n",
       "t_ea5c7aac4ff3       aligned      6       es  t_3223a937c5cb         True  \n",
       "t_4a1eb51c37a7       aligned      3       en  t_05229144cbef        False  "
      ]
     },
     "execution_count": 5,
     "metadata": {},
     "output_type": "execute_result"
    }
   ],
   "source": [
    "# show a random sample of the topics from the topics dataframe\n",
    "topics_df.sample(frac=1).head(10)"
   ]
  },
  {
   "cell_type": "code",
   "execution_count": 6,
   "id": "0ab5729c",
   "metadata": {
    "papermill": {
     "duration": 0.183055,
     "end_time": "2022-12-15T15:50:31.469275",
     "exception": false,
     "start_time": "2022-12-15T15:50:31.286220",
     "status": "completed"
    },
    "tags": []
   },
   "outputs": [
    {
     "data": {
      "text/html": [
       "<div>\n",
       "<style scoped>\n",
       "    .dataframe tbody tr th:only-of-type {\n",
       "        vertical-align: middle;\n",
       "    }\n",
       "\n",
       "    .dataframe tbody tr th {\n",
       "        vertical-align: top;\n",
       "    }\n",
       "\n",
       "    .dataframe thead th {\n",
       "        text-align: right;\n",
       "    }\n",
       "</style>\n",
       "<table border=\"1\" class=\"dataframe\">\n",
       "  <thead>\n",
       "    <tr style=\"text-align: right;\">\n",
       "      <th></th>\n",
       "      <th>title</th>\n",
       "      <th>description</th>\n",
       "      <th>kind</th>\n",
       "      <th>text</th>\n",
       "      <th>language</th>\n",
       "      <th>copyright_holder</th>\n",
       "      <th>license</th>\n",
       "    </tr>\n",
       "    <tr>\n",
       "      <th>id</th>\n",
       "      <th></th>\n",
       "      <th></th>\n",
       "      <th></th>\n",
       "      <th></th>\n",
       "      <th></th>\n",
       "      <th></th>\n",
       "      <th></th>\n",
       "    </tr>\n",
       "  </thead>\n",
       "  <tbody>\n",
       "    <tr>\n",
       "      <th>c_4a1c735fcf8e</th>\n",
       "      <td>7.4: Green's Function for \\(\\Delta\\)</td>\n",
       "      <td></td>\n",
       "      <td>html5</td>\n",
       "      <td>Theorem 7.1 says that each harmonic function s...</td>\n",
       "      <td>en</td>\n",
       "      <td>CSU and Merlot</td>\n",
       "      <td>CC BY-NC-SA</td>\n",
       "    </tr>\n",
       "    <tr>\n",
       "      <th>c_782d6ae6386c</th>\n",
       "      <td>Convierte a unidades más pequeñas (pulgadas, p...</td>\n",
       "      <td>Practica la conversión de unidades de longitud...</td>\n",
       "      <td>exercise</td>\n",
       "      <td></td>\n",
       "      <td>es</td>\n",
       "      <td></td>\n",
       "      <td></td>\n",
       "    </tr>\n",
       "    <tr>\n",
       "      <th>c_818e9806f78f</th>\n",
       "      <td>Level 3 : Properties of trapezium</td>\n",
       "      <td></td>\n",
       "      <td>exercise</td>\n",
       "      <td></td>\n",
       "      <td>en</td>\n",
       "      <td></td>\n",
       "      <td></td>\n",
       "    </tr>\n",
       "    <tr>\n",
       "      <th>c_3c6fb2747d2c</th>\n",
       "      <td>Integumentary System Structure and Function - ...</td>\n",
       "      <td></td>\n",
       "      <td>video</td>\n",
       "      <td></td>\n",
       "      <td>en</td>\n",
       "      <td></td>\n",
       "      <td></td>\n",
       "    </tr>\n",
       "    <tr>\n",
       "      <th>c_5702076f1271</th>\n",
       "      <td>What is the East African Legislative Assembly?...</td>\n",
       "      <td></td>\n",
       "      <td>video</td>\n",
       "      <td></td>\n",
       "      <td>en</td>\n",
       "      <td></td>\n",
       "      <td></td>\n",
       "    </tr>\n",
       "    <tr>\n",
       "      <th>c_096fd000c9b1</th>\n",
       "      <td>Fractions égales et unités différentes</td>\n",
       "      <td>Utiliser la même unité pour déterminer des fra...</td>\n",
       "      <td>exercise</td>\n",
       "      <td></td>\n",
       "      <td>fr</td>\n",
       "      <td></td>\n",
       "      <td></td>\n",
       "    </tr>\n",
       "    <tr>\n",
       "      <th>c_a1a53be09416</th>\n",
       "      <td>Teste básico sobre sistema muscular</td>\n",
       "      <td>Teste básico sobre músculos</td>\n",
       "      <td>exercise</td>\n",
       "      <td></td>\n",
       "      <td>pt</td>\n",
       "      <td></td>\n",
       "      <td></td>\n",
       "    </tr>\n",
       "    <tr>\n",
       "      <th>c_8b2b33bd97d3</th>\n",
       "      <td>Nos identificamos y así celebramos</td>\n",
       "      <td></td>\n",
       "      <td>document</td>\n",
       "      <td></td>\n",
       "      <td>es</td>\n",
       "      <td></td>\n",
       "      <td></td>\n",
       "    </tr>\n",
       "    <tr>\n",
       "      <th>c_edd5e01a787a</th>\n",
       "      <td>Parametric-Inverses Practice</td>\n",
       "      <td></td>\n",
       "      <td>exercise</td>\n",
       "      <td></td>\n",
       "      <td>en</td>\n",
       "      <td></td>\n",
       "      <td></td>\n",
       "    </tr>\n",
       "    <tr>\n",
       "      <th>c_22ffbf58170a</th>\n",
       "      <td>3.2: The Derivative as a Function</td>\n",
       "      <td></td>\n",
       "      <td>html5</td>\n",
       "      <td>Skills to Develop\\n\\nIn this section, we striv...</td>\n",
       "      <td>en</td>\n",
       "      <td>CSU and Merlot</td>\n",
       "      <td>CC BY-NC-SA</td>\n",
       "    </tr>\n",
       "  </tbody>\n",
       "</table>\n",
       "</div>"
      ],
      "text/plain": [
       "                                                            title  \\\n",
       "id                                                                  \n",
       "c_4a1c735fcf8e               7.4: Green's Function for \\(\\Delta\\)   \n",
       "c_782d6ae6386c  Convierte a unidades más pequeñas (pulgadas, p...   \n",
       "c_818e9806f78f                  Level 3 : Properties of trapezium   \n",
       "c_3c6fb2747d2c  Integumentary System Structure and Function - ...   \n",
       "c_5702076f1271  What is the East African Legislative Assembly?...   \n",
       "c_096fd000c9b1             Fractions égales et unités différentes   \n",
       "c_a1a53be09416                Teste básico sobre sistema muscular   \n",
       "c_8b2b33bd97d3                 Nos identificamos y así celebramos   \n",
       "c_edd5e01a787a                       Parametric-Inverses Practice   \n",
       "c_22ffbf58170a                  3.2: The Derivative as a Function   \n",
       "\n",
       "                                                      description      kind  \\\n",
       "id                                                                            \n",
       "c_4a1c735fcf8e                                                        html5   \n",
       "c_782d6ae6386c  Practica la conversión de unidades de longitud...  exercise   \n",
       "c_818e9806f78f                                                     exercise   \n",
       "c_3c6fb2747d2c                                                        video   \n",
       "c_5702076f1271                                                        video   \n",
       "c_096fd000c9b1  Utiliser la même unité pour déterminer des fra...  exercise   \n",
       "c_a1a53be09416                        Teste básico sobre músculos  exercise   \n",
       "c_8b2b33bd97d3                                                     document   \n",
       "c_edd5e01a787a                                                     exercise   \n",
       "c_22ffbf58170a                                                        html5   \n",
       "\n",
       "                                                             text language  \\\n",
       "id                                                                           \n",
       "c_4a1c735fcf8e  Theorem 7.1 says that each harmonic function s...       en   \n",
       "c_782d6ae6386c                                                          es   \n",
       "c_818e9806f78f                                                          en   \n",
       "c_3c6fb2747d2c                                                          en   \n",
       "c_5702076f1271                                                          en   \n",
       "c_096fd000c9b1                                                          fr   \n",
       "c_a1a53be09416                                                          pt   \n",
       "c_8b2b33bd97d3                                                          es   \n",
       "c_edd5e01a787a                                                          en   \n",
       "c_22ffbf58170a  Skills to Develop\\n\\nIn this section, we striv...       en   \n",
       "\n",
       "               copyright_holder      license  \n",
       "id                                            \n",
       "c_4a1c735fcf8e   CSU and Merlot  CC BY-NC-SA  \n",
       "c_782d6ae6386c                                \n",
       "c_818e9806f78f                                \n",
       "c_3c6fb2747d2c                                \n",
       "c_5702076f1271                                \n",
       "c_096fd000c9b1                                \n",
       "c_a1a53be09416                                \n",
       "c_8b2b33bd97d3                                \n",
       "c_edd5e01a787a                                \n",
       "c_22ffbf58170a   CSU and Merlot  CC BY-NC-SA  "
      ]
     },
     "execution_count": 6,
     "metadata": {},
     "output_type": "execute_result"
    }
   ],
   "source": [
    "# show a random sample of the content from the content dataframe\n",
    "content_df.sample(frac=1).head(10)"
   ]
  },
  {
   "cell_type": "code",
   "execution_count": 7,
   "id": "4831b85e",
   "metadata": {
    "papermill": {
     "duration": 0.028789,
     "end_time": "2022-12-15T15:50:31.503751",
     "exception": false,
     "start_time": "2022-12-15T15:50:31.474962",
     "status": "completed"
    },
    "tags": []
   },
   "outputs": [
    {
     "data": {
      "text/plain": [
       "en    36161\n",
       "es    13910\n",
       "pt     4177\n",
       "ar     3701\n",
       "fr     3701\n",
       "bg     2867\n",
       "sw     2860\n",
       "gu     2320\n",
       "bn     2176\n",
       "hi     1786\n",
       "Name: language, dtype: int64"
      ]
     },
     "execution_count": 7,
     "metadata": {},
     "output_type": "execute_result"
    }
   ],
   "source": [
    "# top languages by number of topics\n",
    "topics_df.language.value_counts().sort_values(ascending=False).head(10)"
   ]
  },
  {
   "cell_type": "code",
   "execution_count": 8,
   "id": "c04bd7f5",
   "metadata": {
    "papermill": {
     "duration": 0.030189,
     "end_time": "2022-12-15T15:50:31.539354",
     "exception": false,
     "start_time": "2022-12-15T15:50:31.509165",
     "status": "completed"
    },
    "tags": []
   },
   "outputs": [
    {
     "data": {
      "text/plain": [
       "en    65939\n",
       "es    30844\n",
       "fr    10682\n",
       "pt    10435\n",
       "ar     7418\n",
       "bg     6050\n",
       "hi     4042\n",
       "zh     3849\n",
       "gu     3677\n",
       "bn     2513\n",
       "Name: language, dtype: int64"
      ]
     },
     "execution_count": 8,
     "metadata": {},
     "output_type": "execute_result"
    }
   ],
   "source": [
    "# top languages by number of content items\n",
    "content_df.language.value_counts().sort_values(ascending=False).head(10)"
   ]
  },
  {
   "cell_type": "code",
   "execution_count": 7,
   "id": "15737ad0",
   "metadata": {
    "execution": {
     "iopub.execute_input": "2022-12-15T15:50:31.552836Z",
     "iopub.status.busy": "2022-12-15T15:50:31.552369Z",
     "iopub.status.idle": "2022-12-15T15:50:31.571238Z",
     "shell.execute_reply": "2022-12-15T15:50:31.570247Z"
    },
    "papermill": {
     "duration": 0.028479,
     "end_time": "2022-12-15T15:50:31.573784",
     "exception": false,
     "start_time": "2022-12-15T15:50:31.545305",
     "status": "completed"
    },
    "tags": []
   },
   "outputs": [
    {
     "data": {
      "text/plain": [
       "video       61487\n",
       "document    33873\n",
       "html5       32563\n",
       "exercise    25925\n",
       "audio         199\n",
       "Name: kind, dtype: int64"
      ]
     },
     "execution_count": 7,
     "metadata": {},
     "output_type": "execute_result"
    }
   ],
   "source": [
    "# numbers of different types of content\n",
    "content_df.kind.value_counts().sort_values(ascending=False).head(10)"
   ]
  },
  {
   "cell_type": "code",
   "execution_count": 9,
   "id": "5e78d568",
   "metadata": {
    "papermill": {
     "duration": 0.376821,
     "end_time": "2022-12-15T15:50:31.956307",
     "exception": false,
     "start_time": "2022-12-15T15:50:31.579486",
     "status": "completed"
    },
    "tags": []
   },
   "outputs": [
    {
     "data": {
      "image/png": "[encoded data removed]",
      "text/plain": [
       "<Figure size 640x480 with 1 Axes>"
      ]
     },
     "metadata": {},
     "output_type": "display_data"
    }
   ],
   "source": [
    "# sizes of different channels (in terms of numbers of topics)\n",
    "plt.hist(topics_df.channel.value_counts(), bins=100)\n",
    "plt.show()"
   ]
  },
  {
   "cell_type": "code",
   "execution_count": 10,
   "id": "c0272e4c",
   "metadata": {
    "papermill": {
     "duration": 0.036597,
     "end_time": "2022-12-15T15:50:31.998814",
     "exception": false,
     "start_time": "2022-12-15T15:50:31.962217",
     "status": "completed"
    },
    "tags": []
   },
   "outputs": [],
   "source": [
    "# define some helper functions and classes to aid with data traversal\n",
    "\n",
    "def print_markdown(md):\n",
    "    display(Markdown(md))\n",
    "\n",
    "class Topic:\n",
    "    def __init__(self, topic_id):\n",
    "        self.id = topic_id\n",
    "\n",
    "    @property\n",
    "    def parent(self):\n",
    "        parent_id = topics_df.loc[self.id].parent\n",
    "        if pd.isna(parent_id):\n",
    "            return None\n",
    "        else:\n",
    "            return Topic(parent_id)\n",
    "\n",
    "    @property\n",
    "    def ancestors(self):\n",
    "        ancestors = []\n",
    "        parent = self.parent\n",
    "        while parent is not None:\n",
    "            ancestors.append(parent)\n",
    "            parent = parent.parent\n",
    "        return ancestors\n",
    "\n",
    "    @property\n",
    "    def siblings(self):\n",
    "        if not self.parent:\n",
    "            return []\n",
    "        else:\n",
    "            return [topic for topic in self.parent.children if topic != self]\n",
    "\n",
    "    @property\n",
    "    def content(self):\n",
    "        if self.id in correlations_df.index:\n",
    "            return [ContentItem(content_id) for content_id in correlations_df.loc[self.id].content_ids.split()]\n",
    "        else:\n",
    "            return tuple([]) if self.has_content else []\n",
    "\n",
    "    def get_breadcrumbs(self, separator=\" >> \", include_self=True, include_root=True):\n",
    "        ancestors = self.ancestors\n",
    "        if include_self:\n",
    "            ancestors = [self] + ancestors\n",
    "        if not include_root:\n",
    "            ancestors = ancestors[:-1]\n",
    "        return separator.join(reversed([a.title for a in ancestors]))\n",
    "\n",
    "    @property\n",
    "    def children(self):\n",
    "        return [Topic(child_id) for child_id in topics_df[topics_df.parent == self.id].index]\n",
    "\n",
    "    def subtree_markdown(self, depth=0):\n",
    "        markdown = \"  \" * depth + \"- \" + self.title + \"\\n\"\n",
    "        for child in self.children:\n",
    "            markdown += child.subtree_markdown(depth=depth + 1)\n",
    "        for content in self.content:\n",
    "            markdown += (\"  \" * (depth + 1) + \"- \" + \"[\" + content.kind.title() + \"] \" + content.title) + \"\\n\"\n",
    "        return markdown\n",
    "\n",
    "    def __eq__(self, other):\n",
    "        if not isinstance(other, Topic):\n",
    "            return False\n",
    "        return self.id == other.id\n",
    "\n",
    "    def __getattr__(self, name):\n",
    "        return topics_df.loc[self.id][name]\n",
    "\n",
    "    def __str__(self):\n",
    "        return self.title\n",
    "    \n",
    "    def __repr__(self):\n",
    "        return f\"<Topic(id={self.id}, title=\\\"{self.title}\\\")>\"\n",
    "\n",
    "\n",
    "class ContentItem:\n",
    "    def __init__(self, content_id):\n",
    "        self.id = content_id\n",
    "\n",
    "    @property\n",
    "    def topics(self):\n",
    "        return [Topic(topic_id) for topic_id in topics_df.loc[correlations_df[correlations_df.content_ids.str.contains(self.id)].index].index]\n",
    "\n",
    "    def __getattr__(self, name):\n",
    "        return content_df.loc[self.id][name]\n",
    "\n",
    "    def __str__(self):\n",
    "        return self.title\n",
    "    \n",
    "    def __repr__(self):\n",
    "        return f\"<ContentItem(id={self.id}, title=\\\"{self.title}\\\")>\"\n",
    "\n",
    "    def __eq__(self, other):\n",
    "        if not isinstance(other, ContentItem):\n",
    "            return False\n",
    "        return self.id == other.id\n",
    "\n",
    "    def get_all_breadcrumbs(self, separator=\" >> \", include_root=True):\n",
    "        breadcrumbs = []\n",
    "        for topic in self.topics:\n",
    "            new_breadcrumb = topic.get_breadcrumbs(separator=separator, include_root=include_root)\n",
    "            if new_breadcrumb:\n",
    "                new_breadcrumb = new_breadcrumb + separator + self.title\n",
    "            else:\n",
    "                new_breadcrumb = self.title\n",
    "            breadcrumbs.append(new_breadcrumb)\n",
    "        return breadcrumbs"
   ]
  },
  {
   "cell_type": "code",
   "execution_count": 11,
   "id": "f1c69633",
   "metadata": {
    "papermill": {
     "duration": 0.22885,
     "end_time": "2022-12-15T15:50:32.235364",
     "exception": false,
     "start_time": "2022-12-15T15:50:32.006514",
     "status": "completed"
    },
    "tags": []
   },
   "outputs": [
    {
     "data": {
      "text/markdown": [
       "\n",
       "#### Title:"
      ],
      "text/plain": [
       "<IPython.core.display.Markdown object>"
      ]
     },
     "metadata": {},
     "output_type": "display_data"
    },
    {
     "name": "stdout",
     "output_type": "stream",
     "text": [
      "Lección 2\n",
      "\n"
     ]
    },
    {
     "data": {
      "text/markdown": [
       "#### Description:"
      ],
      "text/plain": [
       "<IPython.core.display.Markdown object>"
      ]
     },
     "metadata": {},
     "output_type": "display_data"
    },
    {
     "name": "stdout",
     "output_type": "stream",
     "text": [
      "\n",
      "\n"
     ]
    },
    {
     "data": {
      "text/markdown": [
       "#### Breadcrumbs:"
      ],
      "text/plain": [
       "<IPython.core.display.Markdown object>"
      ]
     },
     "metadata": {},
     "output_type": "display_data"
    },
    {
     "name": "stdout",
     "output_type": "stream",
     "text": [
      "CREE >> Para el Estudiante >> I Ciclo >> 02 Segundo >> Español Actvidades 2do >> Unidad 1 >> Lección 2\n",
      "\n"
     ]
    },
    {
     "data": {
      "text/markdown": [
       "#### Parent:"
      ],
      "text/plain": [
       "<IPython.core.display.Markdown object>"
      ]
     },
     "metadata": {},
     "output_type": "display_data"
    },
    {
     "name": "stdout",
     "output_type": "stream",
     "text": [
      "Unidad 1\n",
      "\n"
     ]
    },
    {
     "data": {
      "text/markdown": [
       "#### Siblings:"
      ],
      "text/plain": [
       "<IPython.core.display.Markdown object>"
      ]
     },
     "metadata": {},
     "output_type": "display_data"
    },
    {
     "name": "stdout",
     "output_type": "stream",
     "text": [
      "[<Topic(id=t_845ee242d2b4, title=\"Lección 3\")>, <Topic(id=t_85037a830baf, title=\"Lección 5\")>, <Topic(id=t_95dd68c2ce5b, title=\"Lección 1\")>, <Topic(id=t_a4e7c3871a3a, title=\"Lección 8\")>, <Topic(id=t_e97f66f484ce, title=\"Lección 4\")>, <Topic(id=t_ef45840f03ca, title=\"Lección 7\")>, <Topic(id=t_fac6db0b5079, title=\"Lección 6\")>]\n",
      "\n"
     ]
    },
    {
     "data": {
      "text/markdown": [
       "#### Children:"
      ],
      "text/plain": [
       "<IPython.core.display.Markdown object>"
      ]
     },
     "metadata": {},
     "output_type": "display_data"
    },
    {
     "name": "stdout",
     "output_type": "stream",
     "text": [
      "[]\n",
      "\n"
     ]
    },
    {
     "data": {
      "text/markdown": [
       "#### Content:"
      ],
      "text/plain": [
       "<IPython.core.display.Markdown object>"
      ]
     },
     "metadata": {},
     "output_type": "display_data"
    },
    {
     "name": "stdout",
     "output_type": "stream",
     "text": [
      "[<ContentItem(id=c_e7e44cb2c32d, title=\"Siguiendo instrucciones\")>]\n",
      "\n"
     ]
    },
    {
     "data": {
      "text/markdown": [
       "#### All breadcrumbs for first content item:"
      ],
      "text/plain": [
       "<IPython.core.display.Markdown object>"
      ]
     },
     "metadata": {},
     "output_type": "display_data"
    },
    {
     "data": {
      "text/markdown": [
       "- CREE >> Para el Estudiante >> I Ciclo >> 02 Segundo >> Español Actvidades 2do >> Unidad 1 >> Lección 2 >> Siguiendo instrucciones\n",
       "- CREE >> Para el Docente >> I Ciclo >> 02 Segundo >> Español GD 2do >> Unidad 1 >> Lección 2 >> Siguiendo instrucciones"
      ],
      "text/plain": [
       "<IPython.core.display.Markdown object>"
      ]
     },
     "metadata": {},
     "output_type": "display_data"
    }
   ],
   "source": [
    "t = Topic(topics_df.index[33])\n",
    "print_markdown(\"\\n#### Title:\")\n",
    "print(t.title)\n",
    "print()\n",
    "print_markdown(\"#### Description:\")\n",
    "print(t.description)\n",
    "print()\n",
    "print_markdown(\"#### Breadcrumbs:\")\n",
    "print(t.get_breadcrumbs())\n",
    "print()\n",
    "print_markdown(\"#### Parent:\")\n",
    "print(t.parent)\n",
    "print()\n",
    "print_markdown(\"#### Siblings:\")\n",
    "print(t.siblings)\n",
    "print()\n",
    "print_markdown(\"#### Children:\")\n",
    "print(t.children)\n",
    "print()\n",
    "print_markdown(\"#### Content:\")\n",
    "print(t.content)\n",
    "print()\n",
    "if t.content:\n",
    "    print_markdown(\"#### All breadcrumbs for first content item:\")\n",
    "    print_markdown(\"- \" + \"\\n- \".join(t.content[0].get_all_breadcrumbs()))"
   ]
  },
  {
   "cell_type": "code",
   "execution_count": 12,
   "id": "05ebbdcf",
   "metadata": {
    "papermill": {
     "duration": 0.02824,
     "end_time": "2022-12-15T15:50:32.270749",
     "exception": false,
     "start_time": "2022-12-15T15:50:32.242509",
     "status": "completed"
    },
    "tags": []
   },
   "outputs": [
    {
     "data": {
      "text/markdown": [
       "- Mortgages\n",
       "  - [Video] Modéliser avec la somme des termes d'une suite géométrique - exemple 2\n"
      ],
      "text/plain": [
       "<IPython.core.display.Markdown object>"
      ]
     },
     "metadata": {},
     "output_type": "display_data"
    }
   ],
   "source": [
    "# display a topic's subtree and associated content titles as a nested markdown list\n",
    "t = Topic(\"t_36fd07ff5d96\")\n",
    "# (we truncate the output to 35 lines here to avoid overwhelming the notebook)\n",
    "print_markdown(\"\\n\".join(t.subtree_markdown().split(\"\\n\")[:35]))"
   ]
  },
  {
   "cell_type": "code",
   "execution_count": 13,
   "id": "3456bb33",
   "metadata": {
    "papermill": {
     "duration": 0.376506,
     "end_time": "2022-12-15T15:50:32.654346",
     "exception": false,
     "start_time": "2022-12-15T15:50:32.277840",
     "status": "completed"
    },
    "tags": []
   },
   "outputs": [
    {
     "data": {
      "text/plain": [
       "count    61517.000000\n",
       "mean         4.550271\n",
       "std          6.700255\n",
       "min          1.000000\n",
       "25%          2.000000\n",
       "50%          3.000000\n",
       "75%          5.000000\n",
       "max        293.000000\n",
       "dtype: float64"
      ]
     },
     "execution_count": 13,
     "metadata": {},
     "output_type": "execute_result"
    },
    {
     "data": {
      "image/png": "[encoded data removed]",
      "text/plain": [
       "<Figure size 640x480 with 1 Axes>"
      ]
     },
     "metadata": {},
     "output_type": "display_data"
    }
   ],
   "source": [
    "# how many content items are correlated with each topic?\n",
    "content_per_topic = pd.Series([len(cids.split()) for cids in correlations_df.content_ids])\n",
    "content_per_topic[content_per_topic < 40].hist(bins=40)\n",
    "content_per_topic.describe()"
   ]
  },
  {
   "cell_type": "code",
   "execution_count": null,
   "id": "31c0025a-3b0a-41dc-aedc-bdda144bf51b",
   "metadata": {},
   "outputs": [],
   "source": []
  }
 ],
 "metadata": {
  "kernelspec": {
   "display_name": "Python 3 (ipykernel)",
   "language": "python",
   "name": "python3"
  },
  "language_info": {
   "codemirror_mode": {
    "name": "ipython",
    "version": 3
   },
   "file_extension": ".py",
   "mimetype": "text/x-python",
   "name": "python",
   "nbconvert_exporter": "python",
   "pygments_lexer": "ipython3",
   "version": "3.9.4"
  },
  "papermill": {
   "default_parameters": {},
   "duration": 39.839992,
   "end_time": "2022-12-15T15:50:33.892724",
   "environment_variables": {},
   "exception": null,
   "input_path": "__notebook__.ipynb",
   "output_path": "__notebook__.ipynb",
   "parameters": {},
   "start_time": "2022-12-15T15:49:54.052732",
   "version": "2.3.4"
  }
 },
 "nbformat": 4,
 "nbformat_minor": 5
}
