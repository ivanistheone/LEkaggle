{
 "cells": [
  {
   "cell_type": "markdown",
   "id": "8cdbda53",
   "metadata": {
    "papermill": {
     "duration": 0.009018,
     "end_time": "2022-12-15T15:50:04.991849",
     "exception": false,
     "start_time": "2022-12-15T15:50:04.982831",
     "status": "completed"
    },
    "tags": []
   },
   "source": [
    " "
   ]
  },
  {
   "cell_type": "code",
   "execution_count": 1,
   "id": "cf32c6b5",
   "metadata": {
    "papermill": {
     "duration": 0.031044,
     "end_time": "2022-12-15T15:50:05.030447",
     "exception": false,
     "start_time": "2022-12-15T15:50:04.999403",
     "status": "completed"
    },
    "tags": []
   },
   "outputs": [],
   "source": [
    "import matplotlib.pyplot as plt\n",
    "import numpy as np\n",
    "import pandas as pd\n",
    "\n",
    "from IPython.display import display, Markdown\n",
    "from pathlib import Path\n",
    "\n",
    "data_dir = Path('learning-equality-curriculum-recommendations')"
   ]
  },
  {
   "cell_type": "code",
   "execution_count": 2,
   "id": "ca1a3ef8",
   "metadata": {
    "papermill": {
     "duration": 26.169133,
     "end_time": "2022-12-15T15:50:31.203965",
     "exception": false,
     "start_time": "2022-12-15T15:50:05.034832",
     "status": "completed"
    },
    "tags": []
   },
   "outputs": [],
   "source": [
    "# load the data into pandas dataframes\n",
    "topics_df = pd.read_csv(data_dir / \"topics.csv\", index_col=0).fillna({\"title\": \"\", \"description\": \"\"})\n",
    "content_df = pd.read_csv(data_dir / \"content.csv\", index_col=0).fillna(\"\")\n",
    "correlations_df = pd.read_csv(data_dir / \"correlations.csv\", index_col=0)"
   ]
  },
  {
   "cell_type": "code",
   "execution_count": 3,
   "id": "cd5c6060",
   "metadata": {
    "papermill": {
     "duration": 0.072735,
     "end_time": "2022-12-15T15:50:31.281143",
     "exception": false,
     "start_time": "2022-12-15T15:50:31.208408",
     "status": "completed"
    },
    "tags": []
   },
   "outputs": [
    {
     "data": {
      "text/html": [
       "<div>\n",
       "<style scoped>\n",
       "    .dataframe tbody tr th:only-of-type {\n",
       "        vertical-align: middle;\n",
       "    }\n",
       "\n",
       "    .dataframe tbody tr th {\n",
       "        vertical-align: top;\n",
       "    }\n",
       "\n",
       "    .dataframe thead th {\n",
       "        text-align: right;\n",
       "    }\n",
       "</style>\n",
       "<table border=\"1\" class=\"dataframe\">\n",
       "  <thead>\n",
       "    <tr style=\"text-align: right;\">\n",
       "      <th></th>\n",
       "      <th>title</th>\n",
       "      <th>description</th>\n",
       "      <th>channel</th>\n",
       "      <th>category</th>\n",
       "      <th>level</th>\n",
       "      <th>language</th>\n",
       "      <th>parent</th>\n",
       "      <th>has_content</th>\n",
       "    </tr>\n",
       "    <tr>\n",
       "      <th>id</th>\n",
       "      <th></th>\n",
       "      <th></th>\n",
       "      <th></th>\n",
       "      <th></th>\n",
       "      <th></th>\n",
       "      <th></th>\n",
       "      <th></th>\n",
       "      <th></th>\n",
       "    </tr>\n",
       "  </thead>\n",
       "  <tbody>\n",
       "    <tr>\n",
       "      <th>t_b25117b31f72</th>\n",
       "      <td>Lección 7 Embarazo y adolescencia</td>\n",
       "      <td></td>\n",
       "      <td>54971d</td>\n",
       "      <td>aligned</td>\n",
       "      <td>5</td>\n",
       "      <td>es</td>\n",
       "      <td>t_4c69474fb0c1</td>\n",
       "      <td>True</td>\n",
       "    </tr>\n",
       "    <tr>\n",
       "      <th>t_2aaab61d917d</th>\n",
       "      <td>Finding amplitude and midline of sinusoidal fu...</td>\n",
       "      <td>Learn how to find the amplitude and the midlin...</td>\n",
       "      <td>0ec697</td>\n",
       "      <td>source</td>\n",
       "      <td>4</td>\n",
       "      <td>en</td>\n",
       "      <td>t_4ec0525ac9f8</td>\n",
       "      <td>True</td>\n",
       "    </tr>\n",
       "    <tr>\n",
       "      <th>t_594e0d18ee70</th>\n",
       "      <td>Formal definition of limits (optional)</td>\n",
       "      <td>The epsilon-delta definition of a limit is not...</td>\n",
       "      <td>2ee29d</td>\n",
       "      <td>aligned</td>\n",
       "      <td>4</td>\n",
       "      <td>en</td>\n",
       "      <td>t_d7f0401bcd0d</td>\n",
       "      <td>True</td>\n",
       "    </tr>\n",
       "    <tr>\n",
       "      <th>t_b6e44a2beecc</th>\n",
       "      <td>দৈর্ঘ্যের পরিমাপ</td>\n",
       "      <td>স্কেল ও বর্গ একক ব্যবহার করে দৈর্ঘ্য পরিমাপ কর...</td>\n",
       "      <td>e6bdbc</td>\n",
       "      <td>source</td>\n",
       "      <td>4</td>\n",
       "      <td>bn</td>\n",
       "      <td>t_0045860ed294</td>\n",
       "      <td>True</td>\n",
       "    </tr>\n",
       "    <tr>\n",
       "      <th>t_4a3e3cb7f9b2</th>\n",
       "      <td>Playing with numbers</td>\n",
       "      <td></td>\n",
       "      <td>7f116c</td>\n",
       "      <td>supplemental</td>\n",
       "      <td>4</td>\n",
       "      <td>en</td>\n",
       "      <td>t_5d8d9af6efeb</td>\n",
       "      <td>False</td>\n",
       "    </tr>\n",
       "    <tr>\n",
       "      <th>t_f030b2e708fa</th>\n",
       "      <td>The unit circle definition of sine, cosine, an...</td>\n",
       "      <td>Learn about the ingenious way in which we defi...</td>\n",
       "      <td>0ec697</td>\n",
       "      <td>source</td>\n",
       "      <td>4</td>\n",
       "      <td>en</td>\n",
       "      <td>t_6e9ced8bf9e9</td>\n",
       "      <td>True</td>\n",
       "    </tr>\n",
       "    <tr>\n",
       "      <th>t_03e1af0e86f2</th>\n",
       "      <td>Dilution</td>\n",
       "      <td>When companies issue new shares, many people c...</td>\n",
       "      <td>2ee29d</td>\n",
       "      <td>aligned</td>\n",
       "      <td>4</td>\n",
       "      <td>en</td>\n",
       "      <td>t_3d603b1cdf32</td>\n",
       "      <td>True</td>\n",
       "    </tr>\n",
       "    <tr>\n",
       "      <th>t_bc729fbb916d</th>\n",
       "      <td>Draw with Bush Baby</td>\n",
       "      <td></td>\n",
       "      <td>14d190</td>\n",
       "      <td>aligned</td>\n",
       "      <td>7</td>\n",
       "      <td>en</td>\n",
       "      <td>t_d9a908463a64</td>\n",
       "      <td>True</td>\n",
       "    </tr>\n",
       "    <tr>\n",
       "      <th>t_df47045b899e</th>\n",
       "      <td>দশমিককে ভগ্নাংশ হিসেবে লেখা</td>\n",
       "      <td>কীভাবে দশমিককে ভগ্নাংশ হিসেবে পুনরায় লেখা যায় ...</td>\n",
       "      <td>e6bdbc</td>\n",
       "      <td>source</td>\n",
       "      <td>4</td>\n",
       "      <td>bn</td>\n",
       "      <td>t_d1127419de4f</td>\n",
       "      <td>True</td>\n",
       "    </tr>\n",
       "    <tr>\n",
       "      <th>t_6107349e64e2</th>\n",
       "      <td>Polymer Chemistry: Experimental Methods</td>\n",
       "      <td></td>\n",
       "      <td>abd7dc</td>\n",
       "      <td>supplemental</td>\n",
       "      <td>5</td>\n",
       "      <td>en</td>\n",
       "      <td>t_72894be8326e</td>\n",
       "      <td>True</td>\n",
       "    </tr>\n",
       "  </tbody>\n",
       "</table>\n",
       "</div>"
      ],
      "text/plain": [
       "                                                            title  \\\n",
       "id                                                                  \n",
       "t_b25117b31f72                  Lección 7 Embarazo y adolescencia   \n",
       "t_2aaab61d917d  Finding amplitude and midline of sinusoidal fu...   \n",
       "t_594e0d18ee70             Formal definition of limits (optional)   \n",
       "t_b6e44a2beecc                                   দৈর্ঘ্যের পরিমাপ   \n",
       "t_4a3e3cb7f9b2                               Playing with numbers   \n",
       "t_f030b2e708fa  The unit circle definition of sine, cosine, an...   \n",
       "t_03e1af0e86f2                                           Dilution   \n",
       "t_bc729fbb916d                                Draw with Bush Baby   \n",
       "t_df47045b899e                        দশমিককে ভগ্নাংশ হিসেবে লেখা   \n",
       "t_6107349e64e2            Polymer Chemistry: Experimental Methods   \n",
       "\n",
       "                                                      description channel  \\\n",
       "id                                                                          \n",
       "t_b25117b31f72                                                     54971d   \n",
       "t_2aaab61d917d  Learn how to find the amplitude and the midlin...  0ec697   \n",
       "t_594e0d18ee70  The epsilon-delta definition of a limit is not...  2ee29d   \n",
       "t_b6e44a2beecc  স্কেল ও বর্গ একক ব্যবহার করে দৈর্ঘ্য পরিমাপ কর...  e6bdbc   \n",
       "t_4a3e3cb7f9b2                                                     7f116c   \n",
       "t_f030b2e708fa  Learn about the ingenious way in which we defi...  0ec697   \n",
       "t_03e1af0e86f2  When companies issue new shares, many people c...  2ee29d   \n",
       "t_bc729fbb916d                                                     14d190   \n",
       "t_df47045b899e  কীভাবে দশমিককে ভগ্নাংশ হিসেবে পুনরায় লেখা যায় ...  e6bdbc   \n",
       "t_6107349e64e2                                                     abd7dc   \n",
       "\n",
       "                    category  level language          parent  has_content  \n",
       "id                                                                         \n",
       "t_b25117b31f72       aligned      5       es  t_4c69474fb0c1         True  \n",
       "t_2aaab61d917d        source      4       en  t_4ec0525ac9f8         True  \n",
       "t_594e0d18ee70       aligned      4       en  t_d7f0401bcd0d         True  \n",
       "t_b6e44a2beecc        source      4       bn  t_0045860ed294         True  \n",
       "t_4a3e3cb7f9b2  supplemental      4       en  t_5d8d9af6efeb        False  \n",
       "t_f030b2e708fa        source      4       en  t_6e9ced8bf9e9         True  \n",
       "t_03e1af0e86f2       aligned      4       en  t_3d603b1cdf32         True  \n",
       "t_bc729fbb916d       aligned      7       en  t_d9a908463a64         True  \n",
       "t_df47045b899e        source      4       bn  t_d1127419de4f         True  \n",
       "t_6107349e64e2  supplemental      5       en  t_72894be8326e         True  "
      ]
     },
     "execution_count": 3,
     "metadata": {},
     "output_type": "execute_result"
    }
   ],
   "source": [
    "# show a random sample of the topics from the topics dataframe\n",
    "topics_df.sample(frac=1).head(10)"
   ]
  },
  {
   "cell_type": "code",
   "execution_count": 4,
   "id": "0ab5729c",
   "metadata": {
    "papermill": {
     "duration": 0.183055,
     "end_time": "2022-12-15T15:50:31.469275",
     "exception": false,
     "start_time": "2022-12-15T15:50:31.286220",
     "status": "completed"
    },
    "tags": []
   },
   "outputs": [
    {
     "data": {
      "text/html": [
       "<div>\n",
       "<style scoped>\n",
       "    .dataframe tbody tr th:only-of-type {\n",
       "        vertical-align: middle;\n",
       "    }\n",
       "\n",
       "    .dataframe tbody tr th {\n",
       "        vertical-align: top;\n",
       "    }\n",
       "\n",
       "    .dataframe thead th {\n",
       "        text-align: right;\n",
       "    }\n",
       "</style>\n",
       "<table border=\"1\" class=\"dataframe\">\n",
       "  <thead>\n",
       "    <tr style=\"text-align: right;\">\n",
       "      <th></th>\n",
       "      <th>title</th>\n",
       "      <th>description</th>\n",
       "      <th>kind</th>\n",
       "      <th>text</th>\n",
       "      <th>language</th>\n",
       "      <th>copyright_holder</th>\n",
       "      <th>license</th>\n",
       "    </tr>\n",
       "    <tr>\n",
       "      <th>id</th>\n",
       "      <th></th>\n",
       "      <th></th>\n",
       "      <th></th>\n",
       "      <th></th>\n",
       "      <th></th>\n",
       "      <th></th>\n",
       "      <th></th>\n",
       "    </tr>\n",
       "  </thead>\n",
       "  <tbody>\n",
       "    <tr>\n",
       "      <th>c_ff0f7c51f410</th>\n",
       "      <td>9.4.1.L14.pdf</td>\n",
       "      <td>9.4.1.L14.pdf</td>\n",
       "      <td>document</td>\n",
       "      <td>NYS Common Core ELA &amp; Literacy Curriculum\\n\\n9...</td>\n",
       "      <td>es</td>\n",
       "      <td>Engage NY</td>\n",
       "      <td>CC BY-NC-SA</td>\n",
       "    </tr>\n",
       "    <tr>\n",
       "      <th>c_c59a8b8c6ba4</th>\n",
       "      <td>¿Cómo se hace un regate clásico?</td>\n",
       "      <td>Con este tutorial aprenderás a hacer un regate...</td>\n",
       "      <td>document</td>\n",
       "      <td>\\n¿Cómo se hace un regate clásico?\\nCon este ...</td>\n",
       "      <td>es</td>\n",
       "      <td>Sikana Education</td>\n",
       "      <td>CC BY-NC-ND</td>\n",
       "    </tr>\n",
       "    <tr>\n",
       "      <th>c_366af0114d7f</th>\n",
       "      <td>Сметки с Лоренцови трансформации</td>\n",
       "      <td>Ще разгледаме пример с Лоренцова трансформация...</td>\n",
       "      <td>video</td>\n",
       "      <td>Нека разровим малко по-надълбоко в трансформац...</td>\n",
       "      <td>bg</td>\n",
       "      <td>Khan Academy</td>\n",
       "      <td>CC BY-NC-SA</td>\n",
       "    </tr>\n",
       "    <tr>\n",
       "      <th>c_c861b6148a04</th>\n",
       "      <td>Abonnement au yoga : résoudre l'équation</td>\n",
       "      <td>La suite ! Maintenant, on résout les équations...</td>\n",
       "      <td>video</td>\n",
       "      <td></td>\n",
       "      <td>fr</td>\n",
       "      <td></td>\n",
       "      <td></td>\n",
       "    </tr>\n",
       "    <tr>\n",
       "      <th>c_7c062611d419</th>\n",
       "      <td>Documento 4</td>\n",
       "      <td>¡Esta guía complementaria está diseñada como u...</td>\n",
       "      <td>document</td>\n",
       "      <td>Kindergarten\\n\\nCore Knowledge Language Arts® ...</td>\n",
       "      <td>es</td>\n",
       "      <td>Engage NY</td>\n",
       "      <td>CC BY-NC-SA</td>\n",
       "    </tr>\n",
       "    <tr>\n",
       "      <th>c_074a8e1a634f</th>\n",
       "      <td>Deducción intuitiva de la Keq</td>\n",
       "      <td>Un intento más concreto para demostrar cómo la...</td>\n",
       "      <td>video</td>\n",
       "      <td></td>\n",
       "      <td>es</td>\n",
       "      <td></td>\n",
       "      <td></td>\n",
       "    </tr>\n",
       "    <tr>\n",
       "      <th>c_67062c984c38</th>\n",
       "      <td>Concepto de negocio</td>\n",
       "      <td>Explore los tipos de gráficos que puede usar p...</td>\n",
       "      <td>html5</td>\n",
       "      <td>PD_BC_ES2\\n\\nDrag up for fullscreen</td>\n",
       "      <td>es</td>\n",
       "      <td>HP LIFE</td>\n",
       "      <td>CC BY</td>\n",
       "    </tr>\n",
       "    <tr>\n",
       "      <th>c_aee1673e8cec</th>\n",
       "      <td>मूलों के योग और गुणनफल से अज्ञातों को ज्ञात कर...</td>\n",
       "      <td>जब मूलों के बीच का एक संबंध दिया गया होता है त...</td>\n",
       "      <td>exercise</td>\n",
       "      <td></td>\n",
       "      <td>hi</td>\n",
       "      <td></td>\n",
       "      <td></td>\n",
       "    </tr>\n",
       "    <tr>\n",
       "      <th>c_7c1931294fd2</th>\n",
       "      <td>Introduction: Me and Myself in a Group</td>\n",
       "      <td></td>\n",
       "      <td>html5</td>\n",
       "      <td></td>\n",
       "      <td>en</td>\n",
       "      <td></td>\n",
       "      <td></td>\n",
       "    </tr>\n",
       "    <tr>\n",
       "      <th>c_ecf695c4922d</th>\n",
       "      <td>Lección 7</td>\n",
       "      <td>En esta lección, los alumnos completan un borr...</td>\n",
       "      <td>document</td>\n",
       "      <td>Grade 6: Module 1: Unit 3: Lesson 7\\nEnd of Un...</td>\n",
       "      <td>es</td>\n",
       "      <td>Engage NY</td>\n",
       "      <td>CC BY-NC-SA</td>\n",
       "    </tr>\n",
       "  </tbody>\n",
       "</table>\n",
       "</div>"
      ],
      "text/plain": [
       "                                                            title  \\\n",
       "id                                                                  \n",
       "c_ff0f7c51f410                                      9.4.1.L14.pdf   \n",
       "c_c59a8b8c6ba4                   ¿Cómo se hace un regate clásico?   \n",
       "c_366af0114d7f                   Сметки с Лоренцови трансформации   \n",
       "c_c861b6148a04          Abonnement au yoga : résoudre l'équation    \n",
       "c_7c062611d419                                        Documento 4   \n",
       "c_074a8e1a634f                      Deducción intuitiva de la Keq   \n",
       "c_67062c984c38                                Concepto de negocio   \n",
       "c_aee1673e8cec  मूलों के योग और गुणनफल से अज्ञातों को ज्ञात कर...   \n",
       "c_7c1931294fd2             Introduction: Me and Myself in a Group   \n",
       "c_ecf695c4922d                                          Lección 7   \n",
       "\n",
       "                                                      description      kind  \\\n",
       "id                                                                            \n",
       "c_ff0f7c51f410                                      9.4.1.L14.pdf  document   \n",
       "c_c59a8b8c6ba4  Con este tutorial aprenderás a hacer un regate...  document   \n",
       "c_366af0114d7f  Ще разгледаме пример с Лоренцова трансформация...     video   \n",
       "c_c861b6148a04  La suite ! Maintenant, on résout les équations...     video   \n",
       "c_7c062611d419  ¡Esta guía complementaria está diseñada como u...  document   \n",
       "c_074a8e1a634f  Un intento más concreto para demostrar cómo la...     video   \n",
       "c_67062c984c38  Explore los tipos de gráficos que puede usar p...     html5   \n",
       "c_aee1673e8cec  जब मूलों के बीच का एक संबंध दिया गया होता है त...  exercise   \n",
       "c_7c1931294fd2                                                        html5   \n",
       "c_ecf695c4922d  En esta lección, los alumnos completan un borr...  document   \n",
       "\n",
       "                                                             text language  \\\n",
       "id                                                                           \n",
       "c_ff0f7c51f410  NYS Common Core ELA & Literacy Curriculum\\n\\n9...       es   \n",
       "c_c59a8b8c6ba4  \\n¿Cómo se hace un regate clásico?\\nCon este ...       es   \n",
       "c_366af0114d7f  Нека разровим малко по-надълбоко в трансформац...       bg   \n",
       "c_c861b6148a04                                                          fr   \n",
       "c_7c062611d419  Kindergarten\\n\\nCore Knowledge Language Arts® ...       es   \n",
       "c_074a8e1a634f                                                          es   \n",
       "c_67062c984c38                PD_BC_ES2\\n\\nDrag up for fullscreen       es   \n",
       "c_aee1673e8cec                                                          hi   \n",
       "c_7c1931294fd2                                                          en   \n",
       "c_ecf695c4922d  Grade 6: Module 1: Unit 3: Lesson 7\\nEnd of Un...       es   \n",
       "\n",
       "                copyright_holder      license  \n",
       "id                                             \n",
       "c_ff0f7c51f410         Engage NY  CC BY-NC-SA  \n",
       "c_c59a8b8c6ba4  Sikana Education  CC BY-NC-ND  \n",
       "c_366af0114d7f      Khan Academy  CC BY-NC-SA  \n",
       "c_c861b6148a04                                 \n",
       "c_7c062611d419         Engage NY  CC BY-NC-SA  \n",
       "c_074a8e1a634f                                 \n",
       "c_67062c984c38           HP LIFE        CC BY  \n",
       "c_aee1673e8cec                                 \n",
       "c_7c1931294fd2                                 \n",
       "c_ecf695c4922d         Engage NY  CC BY-NC-SA  "
      ]
     },
     "execution_count": 4,
     "metadata": {},
     "output_type": "execute_result"
    }
   ],
   "source": [
    "# show a random sample of the content from the content dataframe\n",
    "content_df.sample(frac=1).head(10)"
   ]
  },
  {
   "cell_type": "code",
   "execution_count": 5,
   "id": "4831b85e",
   "metadata": {
    "papermill": {
     "duration": 0.028789,
     "end_time": "2022-12-15T15:50:31.503751",
     "exception": false,
     "start_time": "2022-12-15T15:50:31.474962",
     "status": "completed"
    },
    "tags": []
   },
   "outputs": [
    {
     "data": {
      "text/plain": [
       "en    36161\n",
       "es    13910\n",
       "pt     4177\n",
       "ar     3701\n",
       "fr     3701\n",
       "bg     2867\n",
       "sw     2860\n",
       "gu     2320\n",
       "bn     2176\n",
       "hi     1786\n",
       "Name: language, dtype: int64"
      ]
     },
     "execution_count": 5,
     "metadata": {},
     "output_type": "execute_result"
    }
   ],
   "source": [
    "# top languages by number of topics\n",
    "topics_df.language.value_counts().sort_values(ascending=False).head(10)"
   ]
  },
  {
   "cell_type": "code",
   "execution_count": 6,
   "id": "c04bd7f5",
   "metadata": {
    "papermill": {
     "duration": 0.030189,
     "end_time": "2022-12-15T15:50:31.539354",
     "exception": false,
     "start_time": "2022-12-15T15:50:31.509165",
     "status": "completed"
    },
    "tags": []
   },
   "outputs": [
    {
     "data": {
      "text/plain": [
       "en    65939\n",
       "es    30844\n",
       "fr    10682\n",
       "pt    10435\n",
       "ar     7418\n",
       "bg     6050\n",
       "hi     4042\n",
       "zh     3849\n",
       "gu     3677\n",
       "bn     2513\n",
       "Name: language, dtype: int64"
      ]
     },
     "execution_count": 6,
     "metadata": {},
     "output_type": "execute_result"
    }
   ],
   "source": [
    "# top languages by number of content items\n",
    "content_df.language.value_counts().sort_values(ascending=False).head(10)"
   ]
  },
  {
   "cell_type": "code",
   "execution_count": 7,
   "id": "15737ad0",
   "metadata": {
    "papermill": {
     "duration": 0.028479,
     "end_time": "2022-12-15T15:50:31.573784",
     "exception": false,
     "start_time": "2022-12-15T15:50:31.545305",
     "status": "completed"
    },
    "tags": []
   },
   "outputs": [
    {
     "data": {
      "text/plain": [
       "video       61487\n",
       "document    33873\n",
       "html5       32563\n",
       "exercise    25925\n",
       "audio         199\n",
       "Name: kind, dtype: int64"
      ]
     },
     "execution_count": 7,
     "metadata": {},
     "output_type": "execute_result"
    }
   ],
   "source": [
    "# numbers of different types of content\n",
    "content_df.kind.value_counts().sort_values(ascending=False).head(10)"
   ]
  },
  {
   "cell_type": "code",
   "execution_count": 8,
   "id": "5e78d568",
   "metadata": {
    "papermill": {
     "duration": 0.376821,
     "end_time": "2022-12-15T15:50:31.956307",
     "exception": false,
     "start_time": "2022-12-15T15:50:31.579486",
     "status": "completed"
    },
    "tags": []
   },
   "outputs": [
    {
     "data": {
      "image/png": "[encoded data removed]",
      "text/plain": [
       "<Figure size 640x480 with 1 Axes>"
      ]
     },
     "metadata": {},
     "output_type": "display_data"
    }
   ],
   "source": [
    "# sizes of different channels (in terms of numbers of topics)\n",
    "plt.hist(topics_df.channel.value_counts(), bins=100)\n",
    "plt.show()"
   ]
  },
  {
   "cell_type": "code",
   "execution_count": 9,
   "id": "c0272e4c",
   "metadata": {
    "papermill": {
     "duration": 0.036597,
     "end_time": "2022-12-15T15:50:31.998814",
     "exception": false,
     "start_time": "2022-12-15T15:50:31.962217",
     "status": "completed"
    },
    "tags": []
   },
   "outputs": [],
   "source": [
    "# define some helper functions and classes to aid with data traversal\n",
    "\n",
    "from utils import print_markdown\n",
    "from utils import Topic\n",
    "from utils import ContentItem\n"
   ]
  },
  {
   "cell_type": "code",
   "execution_count": 10,
   "id": "f1c69633",
   "metadata": {
    "papermill": {
     "duration": 0.22885,
     "end_time": "2022-12-15T15:50:32.235364",
     "exception": false,
     "start_time": "2022-12-15T15:50:32.006514",
     "status": "completed"
    },
    "tags": []
   },
   "outputs": [
    {
     "data": {
      "text/markdown": [
       "\n",
       "#### Title:"
      ],
      "text/plain": [
       "<IPython.core.display.Markdown object>"
      ]
     },
     "metadata": {},
     "output_type": "display_data"
    },
    {
     "name": "stdout",
     "output_type": "stream",
     "text": [
      "Lección 2\n",
      "\n"
     ]
    },
    {
     "data": {
      "text/markdown": [
       "#### Description:"
      ],
      "text/plain": [
       "<IPython.core.display.Markdown object>"
      ]
     },
     "metadata": {},
     "output_type": "display_data"
    },
    {
     "name": "stdout",
     "output_type": "stream",
     "text": [
      "\n",
      "\n"
     ]
    },
    {
     "data": {
      "text/markdown": [
       "#### Breadcrumbs:"
      ],
      "text/plain": [
       "<IPython.core.display.Markdown object>"
      ]
     },
     "metadata": {},
     "output_type": "display_data"
    },
    {
     "name": "stdout",
     "output_type": "stream",
     "text": [
      "CREE >> Para el Estudiante >> I Ciclo >> 02 Segundo >> Español Actvidades 2do >> Unidad 1 >> Lección 2\n",
      "\n"
     ]
    },
    {
     "data": {
      "text/markdown": [
       "#### Parent:"
      ],
      "text/plain": [
       "<IPython.core.display.Markdown object>"
      ]
     },
     "metadata": {},
     "output_type": "display_data"
    },
    {
     "name": "stdout",
     "output_type": "stream",
     "text": [
      "Unidad 1\n",
      "\n"
     ]
    },
    {
     "data": {
      "text/markdown": [
       "#### Siblings:"
      ],
      "text/plain": [
       "<IPython.core.display.Markdown object>"
      ]
     },
     "metadata": {},
     "output_type": "display_data"
    },
    {
     "name": "stdout",
     "output_type": "stream",
     "text": [
      "[<Topic(id=t_845ee242d2b4, title=\"Lección 3\")>, <Topic(id=t_85037a830baf, title=\"Lección 5\")>, <Topic(id=t_95dd68c2ce5b, title=\"Lección 1\")>, <Topic(id=t_a4e7c3871a3a, title=\"Lección 8\")>, <Topic(id=t_e97f66f484ce, title=\"Lección 4\")>, <Topic(id=t_ef45840f03ca, title=\"Lección 7\")>, <Topic(id=t_fac6db0b5079, title=\"Lección 6\")>]\n",
      "\n"
     ]
    },
    {
     "data": {
      "text/markdown": [
       "#### Children:"
      ],
      "text/plain": [
       "<IPython.core.display.Markdown object>"
      ]
     },
     "metadata": {},
     "output_type": "display_data"
    },
    {
     "name": "stdout",
     "output_type": "stream",
     "text": [
      "[]\n",
      "\n"
     ]
    },
    {
     "data": {
      "text/markdown": [
       "#### Content:"
      ],
      "text/plain": [
       "<IPython.core.display.Markdown object>"
      ]
     },
     "metadata": {},
     "output_type": "display_data"
    },
    {
     "name": "stdout",
     "output_type": "stream",
     "text": [
      "[<ContentItem(id=c_e7e44cb2c32d, title=\"Siguiendo instrucciones\")>]\n",
      "\n"
     ]
    },
    {
     "data": {
      "text/markdown": [
       "#### All breadcrumbs for first content item:"
      ],
      "text/plain": [
       "<IPython.core.display.Markdown object>"
      ]
     },
     "metadata": {},
     "output_type": "display_data"
    },
    {
     "data": {
      "text/markdown": [
       "- CREE >> Para el Estudiante >> I Ciclo >> 02 Segundo >> Español Actvidades 2do >> Unidad 1 >> Lección 2 >> Siguiendo instrucciones\n",
       "- CREE >> Para el Docente >> I Ciclo >> 02 Segundo >> Español GD 2do >> Unidad 1 >> Lección 2 >> Siguiendo instrucciones"
      ],
      "text/plain": [
       "<IPython.core.display.Markdown object>"
      ]
     },
     "metadata": {},
     "output_type": "display_data"
    }
   ],
   "source": [
    "t = Topic(topics_df.index[33])\n",
    "print_markdown(\"\\n#### Title:\")\n",
    "print(t.title)\n",
    "print()\n",
    "print_markdown(\"#### Description:\")\n",
    "print(t.description)\n",
    "print()\n",
    "print_markdown(\"#### Breadcrumbs:\")\n",
    "print(t.get_breadcrumbs())\n",
    "print()\n",
    "print_markdown(\"#### Parent:\")\n",
    "print(t.parent)\n",
    "print()\n",
    "print_markdown(\"#### Siblings:\")\n",
    "print(t.siblings)\n",
    "print()\n",
    "print_markdown(\"#### Children:\")\n",
    "print(t.children)\n",
    "print()\n",
    "print_markdown(\"#### Content:\")\n",
    "print(t.content)\n",
    "print()\n",
    "if t.content:\n",
    "    print_markdown(\"#### All breadcrumbs for first content item:\")\n",
    "    print_markdown(\"- \" + \"\\n- \".join(t.content[0].get_all_breadcrumbs()))"
   ]
  },
  {
   "cell_type": "code",
   "execution_count": 11,
   "id": "05ebbdcf",
   "metadata": {
    "papermill": {
     "duration": 0.02824,
     "end_time": "2022-12-15T15:50:32.270749",
     "exception": false,
     "start_time": "2022-12-15T15:50:32.242509",
     "status": "completed"
    },
    "tags": []
   },
   "outputs": [
    {
     "data": {
      "text/markdown": [
       "- Mortgages\n",
       "  - [Video] Modéliser avec la somme des termes d'une suite géométrique - exemple 2\n"
      ],
      "text/plain": [
       "<IPython.core.display.Markdown object>"
      ]
     },
     "metadata": {},
     "output_type": "display_data"
    }
   ],
   "source": [
    "# display a topic's subtree and associated content titles as a nested markdown list\n",
    "t = Topic(\"t_36fd07ff5d96\")\n",
    "# (we truncate the output to 35 lines here to avoid overwhelming the notebook)\n",
    "print_markdown(\"\\n\".join(t.subtree_markdown().split(\"\\n\")[:35]))"
   ]
  },
  {
   "cell_type": "code",
   "execution_count": 12,
   "id": "3456bb33",
   "metadata": {
    "papermill": {
     "duration": 0.376506,
     "end_time": "2022-12-15T15:50:32.654346",
     "exception": false,
     "start_time": "2022-12-15T15:50:32.277840",
     "status": "completed"
    },
    "tags": []
   },
   "outputs": [
    {
     "data": {
      "text/plain": [
       "count    61517.000000\n",
       "mean         4.550271\n",
       "std          6.700255\n",
       "min          1.000000\n",
       "25%          2.000000\n",
       "50%          3.000000\n",
       "75%          5.000000\n",
       "max        293.000000\n",
       "dtype: float64"
      ]
     },
     "execution_count": 12,
     "metadata": {},
     "output_type": "execute_result"
    },
    {
     "data": {
      "image/png": "[encoded data removed]",
      "text/plain": [
       "<Figure size 640x480 with 1 Axes>"
      ]
     },
     "metadata": {},
     "output_type": "display_data"
    }
   ],
   "source": [
    "# how many content items are correlated with each topic?\n",
    "content_per_topic = pd.Series([len(cids.split()) for cids in correlations_df.content_ids])\n",
    "content_per_topic[content_per_topic < 40].hist(bins=40)\n",
    "content_per_topic.describe()"
   ]
  },
  {
   "cell_type": "code",
   "execution_count": null,
   "id": "31c0025a-3b0a-41dc-aedc-bdda144bf51b",
   "metadata": {},
   "outputs": [],
   "source": []
  }
 ],
 "metadata": {
  "kernelspec": {
   "display_name": "Python 3 (ipykernel)",
   "language": "python",
   "name": "python3"
  },
  "language_info": {
   "codemirror_mode": {
    "name": "ipython",
    "version": 3
   },
   "file_extension": ".py",
   "mimetype": "text/x-python",
   "name": "python",
   "nbconvert_exporter": "python",
   "pygments_lexer": "ipython3",
   "version": "3.9.4"
  },
  "papermill": {
   "default_parameters": {},
   "duration": 39.839992,
   "end_time": "2022-12-15T15:50:33.892724",
   "environment_variables": {},
   "exception": null,
   "input_path": "__notebook__.ipynb",
   "output_path": "__notebook__.ipynb",
   "parameters": {},
   "start_time": "2022-12-15T15:49:54.052732",
   "version": "2.3.4"
  }
 },
 "nbformat": 4,
 "nbformat_minor": 5
}
